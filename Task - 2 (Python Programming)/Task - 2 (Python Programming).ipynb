{
 "cells": [
  {
   "cell_type": "code",
   "execution_count": 1,
   "metadata": {},
   "outputs": [
    {
     "name": "stdout",
     "output_type": "stream",
     "text": [
      "1\n",
      "2\n",
      "1\n",
      "2\n",
      "[[0, 0, 0], [0, 0, 1], [0, 1, 0], [0, 2, 1], [1, 0, 0], [1, 1, 1], [1, 2, 0], [1, 2, 1]]\n"
     ]
    }
   ],
   "source": [
    "#List Comprehensions\n",
    "\n",
    "if __name__ == '__main__':\n",
    "    x = int(input())\n",
    "    y = int(input())\n",
    "    z = int(input())\n",
    "    n = int(input())\n",
    "ans=[[i,j,k] for i in range(x+1) for j in range(y+1) for k in range(z+1) if(i+j+k!=n)]\n",
    "print(ans)\n"
   ]
  },
  {
   "cell_type": "code",
   "execution_count": 2,
   "metadata": {},
   "outputs": [
    {
     "name": "stdout",
     "output_type": "stream",
     "text": [
      "2\n",
      "32 23 22\n",
      "23\n"
     ]
    }
   ],
   "source": [
    "#Find the Runner-Up Score!\n",
    "\n",
    "if __name__ == '__main__':\n",
    "    n = int(input())\n",
    "    arr = map(int, input().split())\n",
    "    \n",
    "print(sorted(list(set(arr)))[-2])\n"
   ]
  },
  {
   "cell_type": "code",
   "execution_count": 1,
   "metadata": {},
   "outputs": [
    {
     "name": "stdout",
     "output_type": "stream",
     "text": [
      "2\n",
      "harry\n",
      "23\n",
      "berry\n",
      "22\n",
      "harry\n"
     ]
    }
   ],
   "source": [
    "#Nested Lists\n",
    "\n",
    "marksheet=[]\n",
    "scorelist=[]\n",
    "if __name__ == '__main__':\n",
    "        for _ in range(int(input())):\n",
    "                name = input()\n",
    "                score = float(input())\n",
    "                marksheet+=[[name,score]]\n",
    "                scorelist+=[score]\n",
    "        b=sorted(list(set(scorelist)))[1] \n",
    "\n",
    "        for a,c in sorted(marksheet):\n",
    "             if c==b:\n",
    "                    print(a)\n"
   ]
  },
  {
   "cell_type": "code",
   "execution_count": 2,
   "metadata": {},
   "outputs": [
    {
     "name": "stdout",
     "output_type": "stream",
     "text": [
      "2\n",
      "harsh 22 12\n",
      "anrag 31 16\n",
      "anrag\n",
      "23.50\n"
     ]
    }
   ],
   "source": [
    "#Finding the percentage\n",
    "\n",
    "if __name__=='__main__':    \n",
    "    n = int(input())\n",
    "    student_marks = {}\n",
    "    sonuc = 0\n",
    "    average = float()\n",
    "    for _ in range(n):\n",
    "        name, *line = input().split()\n",
    "        scores = list(map(float, line))\n",
    "        student_marks[name] = scores\n",
    "    query_name = input()\n",
    "    for i in student_marks[query_name]:\n",
    "        sonuc += i\n",
    "    average = sonuc / len(student_marks[query_name])\n",
    "    print(\"%.2f\" %average)\n"
   ]
  },
  {
   "cell_type": "code",
   "execution_count": 5,
   "metadata": {},
   "outputs": [
    {
     "name": "stdout",
     "output_type": "stream",
     "text": [
      "4\n",
      "insert 1 2\n",
      "insert 3 4\n",
      "pop\n",
      "print\n",
      "[2]\n"
     ]
    }
   ],
   "source": [
    "#Lists\n",
    "\n",
    "\n",
    "N = int(input())\n",
    "    \n",
    "Output = [];\n",
    "for i in range(0,N):\n",
    "    ip = input().split();\n",
    "    if ip[0] == \"print\":\n",
    "        print(Output)\n",
    "    elif ip[0] == \"insert\":\n",
    "        Output.insert(int(ip[1]),int(ip[2]))\n",
    "    elif ip[0] == \"remove\":\n",
    "        Output.remove(int(ip[1]))\n",
    "    elif ip[0] == \"pop\":\n",
    "        Output.pop();\n",
    "    elif ip[0] == \"append\":\n",
    "        Output.append(int(ip[1]))\n",
    "    elif ip[0] == \"sort\":\n",
    "        Output.sort();\n",
    "    else:\n",
    "        Output.reverse();\n"
   ]
  },
  {
   "cell_type": "code",
   "execution_count": 7,
   "metadata": {},
   "outputs": [
    {
     "name": "stdout",
     "output_type": "stream",
     "text": [
      "2\n",
      "1 2\n",
      "-3550055125485641917\n"
     ]
    }
   ],
   "source": [
    "#Tuples\n",
    "\n",
    "if __name__ == '__main__':\n",
    "    n = int(input())\n",
    "    integer_list = map(int, input().split())\n",
    "    t=tuple(integer_list)\n",
    "    print(hash(t))\n"
   ]
  },
  {
   "cell_type": "code",
   "execution_count": 8,
   "metadata": {},
   "outputs": [
    {
     "name": "stdout",
     "output_type": "stream",
     "text": [
      "3\n",
      "1 2 3\n",
      "2.0\n"
     ]
    }
   ],
   "source": [
    "#Introduction to Sets\n",
    "\n",
    "def average(array):\n",
    "    avg=sum(set(array))/len(set(array))\n",
    "    return avg\n",
    "\n",
    "if __name__ == '__main__':\n",
    "    n = int(input())\n",
    "    arr = list(map(int, input().split()))\n",
    "    result = average(arr)\n",
    "    print(result)"
   ]
  },
  {
   "cell_type": "code",
   "execution_count": 9,
   "metadata": {},
   "outputs": [
    {
     "name": "stdout",
     "output_type": "stream",
     "text": [
      "3 2\n",
      "1 5 3\n",
      "3 1\n",
      "5 7\n",
      "1\n"
     ]
    }
   ],
   "source": [
    "#No Idea!\n",
    "\n",
    "io = input().split()\n",
    "m = int(io[0])\n",
    "n = int(io[1])\n",
    "\n",
    "storage = list()\n",
    "count = 0\n",
    "\n",
    "storage = list(map(int, input().split()))\n",
    "\n",
    "A = set(map(int, input().split()))\n",
    "B = set(map(int, input().split()))\n",
    "\n",
    "for i in storage:\n",
    "    if i in A:\n",
    "        count+=1\n",
    "    if i in B:\n",
    "        count-=1\n",
    "\n",
    "print(count)"
   ]
  },
  {
   "cell_type": "code",
   "execution_count": 10,
   "metadata": {},
   "outputs": [
    {
     "name": "stdout",
     "output_type": "stream",
     "text": [
      "4\n",
      "2 4 5 9\n",
      "4\n",
      "2 4 11 12\n",
      "5\n",
      "9\n",
      "11\n",
      "12\n"
     ]
    }
   ],
   "source": [
    "#Symmetric Difference\n",
    "\n",
    "m=int(input())\n",
    "f1=map(int,input().split())\n",
    "n=int(input())\n",
    "f2=map(int,input().split())\n",
    "f3=set(f1).symmetric_difference(set(f2))\n",
    "for i in sorted(f3):\n",
    "    print(i)"
   ]
  },
  {
   "cell_type": "code",
   "execution_count": 12,
   "metadata": {},
   "outputs": [
    {
     "name": "stdout",
     "output_type": "stream",
     "text": [
      "3\n",
      "us\n",
      "uk\n",
      "us\n",
      "2\n"
     ]
    }
   ],
   "source": [
    "#Set .add()\n",
    "\n",
    "diff=set()\n",
    "n=int(input())\n",
    "for i in range (n):\n",
    "    country=input()\n",
    "    diff.add(country)\n",
    "print(len(diff))\n"
   ]
  },
  {
   "cell_type": "code",
   "execution_count": 13,
   "metadata": {},
   "outputs": [
    {
     "name": "stdout",
     "output_type": "stream",
     "text": [
      "5\n",
      "1 2 3 4 5\n",
      "2\n",
      "remove 5\n",
      "remove 4\n",
      "6\n"
     ]
    }
   ],
   "source": [
    "#Set .discard(), .remove() & .pop()\n",
    "\n",
    "n = int(input())\n",
    "s = set(map(int, input().split()))\n",
    "N = int(input())\n",
    "for i in range (0,N):\n",
    "    op=input().split()\n",
    "    if op[0] == 'pop':\n",
    "        s.pop()\n",
    "    if op[0]=='remove':\n",
    "        s.remove(int(op[1]))\n",
    "    if op[0]=='discard':\n",
    "        s.discard(int(op[1]))\n",
    "print(sum(s))\n",
    "        \n",
    "        \n"
   ]
  },
  {
   "cell_type": "code",
   "execution_count": 14,
   "metadata": {},
   "outputs": [
    {
     "name": "stdout",
     "output_type": "stream",
     "text": [
      "4\n",
      "1 2 3 3\n",
      "5 \n",
      "2 2 3\n",
      "3\n"
     ]
    }
   ],
   "source": [
    "#Set .union() Operation\n",
    "\n",
    "m=int(input())\n",
    "f1=map(int,input().split())\n",
    "n=int(input())\n",
    "f2=map(int,input().split())\n",
    "f3=set(f1).union(set(f2))\n",
    "print(len(f3))\n"
   ]
  },
  {
   "cell_type": "code",
   "execution_count": 15,
   "metadata": {},
   "outputs": [
    {
     "name": "stdout",
     "output_type": "stream",
     "text": [
      "4\n",
      "1 2 3 4\n",
      "4\n",
      "2 3 4 2\n",
      "3\n"
     ]
    }
   ],
   "source": [
    "#Set .intersection() Operation\n",
    "\n",
    "m=int(input())\n",
    "f1=map(int,input().split())\n",
    "n=int(input())\n",
    "f2=map(int,input().split())\n",
    "f3=set(f1).intersection(set(f2))\n",
    "print(len(f3))\n"
   ]
  },
  {
   "cell_type": "code",
   "execution_count": 16,
   "metadata": {},
   "outputs": [
    {
     "name": "stdout",
     "output_type": "stream",
     "text": [
      "3\n",
      "1 2 3\n",
      "3\n",
      "2 2 2\n",
      "2\n"
     ]
    }
   ],
   "source": [
    "#Set .difference() Operation\n",
    "\n",
    "m=int(input())\n",
    "f1=map(int,input().split())\n",
    "n=int(input())\n",
    "f2=map(int,input().split())\n",
    "f3=set(f1).difference(set(f2))\n",
    "print(len(f3))\n"
   ]
  },
  {
   "cell_type": "code",
   "execution_count": 17,
   "metadata": {},
   "outputs": [
    {
     "name": "stdout",
     "output_type": "stream",
     "text": [
      "3\n",
      "1 2 3\n",
      "3 \n",
      "3 2 2\n",
      "1\n"
     ]
    }
   ],
   "source": [
    "#Set .symmetric_difference() Operation\n",
    "\n",
    "m=int(input())\n",
    "f1=map(int,input().split())\n",
    "n=int(input())\n",
    "f2=map(int,input().split())\n",
    "f3=set(f1).symmetric_difference(set(f2))\n",
    "print(len(f3))"
   ]
  },
  {
   "cell_type": "code",
   "execution_count": 20,
   "metadata": {},
   "outputs": [
    {
     "name": "stdout",
     "output_type": "stream",
     "text": [
      "4\n",
      "1 2 3 4\n",
      "2\n",
      "update 2\n",
      "5 6\n",
      "update 1\n",
      "8\n",
      "29\n"
     ]
    }
   ],
   "source": [
    "#Set Mutations\n",
    "\n",
    "n=int(input())\n",
    "A=set(map(int,input().split()))\n",
    "N=int(input())\n",
    "for i in range(N):\n",
    "    opr=input().split()\n",
    "    if opr[0]=='intersection_update':\n",
    "        temp=set(map(int,input().split()))\n",
    "        A.intersection_update(temp)\n",
    "    elif opr[0]=='update':\n",
    "        temp=set(map(int,input().split()))\n",
    "        A.update(temp) \n",
    "    elif opr[0]=='symmetric_difference_update':\n",
    "        temp=set(map(int,input().split()))\n",
    "        A.symmetric_difference_update(temp)\n",
    "    elif opr[0]=='difference_update':\n",
    "        temp=set(map(int,input().split()))\n",
    "        A.difference_update(temp)\n",
    "print(sum(A))"
   ]
  },
  {
   "cell_type": "code",
   "execution_count": 21,
   "metadata": {},
   "outputs": [
    {
     "name": "stdout",
     "output_type": "stream",
     "text": [
      "5\n",
      "1 2 3 6 5 4 4 2 5 3 6 1 6 5 3 2 4 1 2 5 1 4 3 6 8 4 3 1 5 6 2\n",
      "8\n"
     ]
    }
   ],
   "source": [
    "#The Captain's Room\n",
    "\n",
    "k=int(input())\n",
    "rooms=map(int,input().split())\n",
    "rooms=sorted(rooms)\n",
    "m=len(rooms)\n",
    "for i in range (m):\n",
    "    if(i!=m-1):\n",
    "        if(rooms[i]!=rooms[i-1] and rooms[i]!=rooms[i+1]):\n",
    "            print(rooms[i])\n",
    "            break;\n",
    "    else:\n",
    "        print(rooms[i])\n"
   ]
  },
  {
   "cell_type": "code",
   "execution_count": 22,
   "metadata": {},
   "outputs": [
    {
     "name": "stdout",
     "output_type": "stream",
     "text": [
      "2\n",
      "3\n",
      "1 2 3\n",
      "3 \n",
      "4 5 6\n",
      "False\n",
      "2\n",
      "1 2\n",
      "2 \n",
      "2 3\n",
      "False\n"
     ]
    }
   ],
   "source": [
    "#Check Subset\n",
    "\n",
    "n=int(input())\n",
    "for i in range (n):\n",
    "    l=int(input())\n",
    "    a=set(map(int,input().split()))\n",
    "    m=int(input())\n",
    "    b=set(map(int,input().split()))\n",
    "    if a.issubset(b):\n",
    "        print('True')\n",
    "    else:\n",
    "        print('False')"
   ]
  },
  {
   "cell_type": "code",
   "execution_count": 23,
   "metadata": {},
   "outputs": [
    {
     "name": "stdout",
     "output_type": "stream",
     "text": [
      "1 2 3 4 5 6\n",
      "2\n",
      "2 5 6 \n",
      "5 6 8\n",
      "False\n"
     ]
    }
   ],
   "source": [
    "#Check Strict Superset\n",
    "\n",
    "A=set(input().split())\n",
    "n=int(input())\n",
    "check=True\n",
    "for i in range (n):\n",
    "    s=set(input().split())\n",
    "    if (s&A!=s or (s==A)):\n",
    "        check=False\n",
    "        break;\n",
    "print(check)"
   ]
  },
  {
   "cell_type": "code",
   "execution_count": null,
   "metadata": {},
   "outputs": [],
   "source": []
  }
 ],
 "metadata": {
  "kernelspec": {
   "display_name": "Python 3",
   "language": "python",
   "name": "python3"
  },
  "language_info": {
   "codemirror_mode": {
    "name": "ipython",
    "version": 3
   },
   "file_extension": ".py",
   "mimetype": "text/x-python",
   "name": "python",
   "nbconvert_exporter": "python",
   "pygments_lexer": "ipython3",
   "version": "3.8.3"
  }
 },
 "nbformat": 4,
 "nbformat_minor": 4
}
